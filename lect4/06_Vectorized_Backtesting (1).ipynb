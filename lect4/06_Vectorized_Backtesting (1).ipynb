{
 "cells": [
  {
   "cell_type": "markdown",
   "id": "3bd640c5",
   "metadata": {},
   "source": [
    "# Vectorized Backtesting\n",
    "In this exercise we build from scratch a simple **backtesting** system to test the profitability of a **simple trading strategy** on the S&P 500.\n",
    "\n",
    "As usual we start from **importing** the standard **packages**."
   ]
  },
  {
   "cell_type": "code",
   "execution_count": 1,
   "id": "86fc7cec",
   "metadata": {},
   "outputs": [],
   "source": [
    "import numpy as np\n",
    "import pandas as pd\n",
    "import matplotlib.pyplot as plt\n",
    "plt.style.use('fivethirtyeight')\n",
    "plt.rcParams['font.size'] = 10 \n",
    "plt.rcParams['lines.linewidth'] = 3\n",
    "%matplotlib inline"
   ]
  },
  {
   "cell_type": "markdown",
   "id": "d1f1dd1a",
   "metadata": {},
   "source": [
    "When we build a strategy we normally follow a series of steps:\n",
    "1. We import and clean the **data**\n",
    "1. We build the **signal** that we use to forecast returns, our \"Alpha Model\"\n",
    "1. We pass the signal to our Portfolio Construction model that will transform the signal in a **position**"
   ]
  },
  {
   "cell_type": "markdown",
   "id": "f628e136",
   "metadata": {},
   "source": [
    "___\n",
    "## 1. The Data\n",
    "We then **load our data** from the file used in the [Chapter 4](https://learning.oreilly.com/library/view/python-for-algorithmic/9781492053347/ch04.html) of the Hilpisch _Python for Algorithmic Trading_ book.\n",
    "\n",
    "**ATTENTION:** Please notice how flexible the data loading functions in Pandas are. We can load a file from anywhere on the web just by passing the address of the file!"
   ]
  },
  {
   "cell_type": "code",
   "execution_count": 2,
   "id": "22a7c5e7",
   "metadata": {},
   "outputs": [
    {
     "data": {
      "text/html": [
       "<div>\n",
       "<style scoped>\n",
       "    .dataframe tbody tr th:only-of-type {\n",
       "        vertical-align: middle;\n",
       "    }\n",
       "\n",
       "    .dataframe tbody tr th {\n",
       "        vertical-align: top;\n",
       "    }\n",
       "\n",
       "    .dataframe thead th {\n",
       "        text-align: right;\n",
       "    }\n",
       "</style>\n",
       "<table border=\"1\" class=\"dataframe\">\n",
       "  <thead>\n",
       "    <tr style=\"text-align: right;\">\n",
       "      <th></th>\n",
       "      <th>AAPL.O</th>\n",
       "      <th>MSFT.O</th>\n",
       "      <th>INTC.O</th>\n",
       "      <th>AMZN.O</th>\n",
       "      <th>GS.N</th>\n",
       "      <th>SPY</th>\n",
       "      <th>.SPX</th>\n",
       "      <th>.VIX</th>\n",
       "      <th>EUR=</th>\n",
       "      <th>XAU=</th>\n",
       "      <th>GDX</th>\n",
       "      <th>GLD</th>\n",
       "    </tr>\n",
       "    <tr>\n",
       "      <th>Date</th>\n",
       "      <th></th>\n",
       "      <th></th>\n",
       "      <th></th>\n",
       "      <th></th>\n",
       "      <th></th>\n",
       "      <th></th>\n",
       "      <th></th>\n",
       "      <th></th>\n",
       "      <th></th>\n",
       "      <th></th>\n",
       "      <th></th>\n",
       "      <th></th>\n",
       "    </tr>\n",
       "  </thead>\n",
       "  <tbody>\n",
       "    <tr>\n",
       "      <th>2010-01-04</th>\n",
       "      <td>30.572827</td>\n",
       "      <td>30.950</td>\n",
       "      <td>20.88</td>\n",
       "      <td>133.90</td>\n",
       "      <td>173.08</td>\n",
       "      <td>113.33</td>\n",
       "      <td>1132.99</td>\n",
       "      <td>20.04</td>\n",
       "      <td>1.4411</td>\n",
       "      <td>1120.00</td>\n",
       "      <td>47.71</td>\n",
       "      <td>109.80</td>\n",
       "    </tr>\n",
       "    <tr>\n",
       "      <th>2010-01-05</th>\n",
       "      <td>30.625684</td>\n",
       "      <td>30.960</td>\n",
       "      <td>20.87</td>\n",
       "      <td>134.69</td>\n",
       "      <td>176.14</td>\n",
       "      <td>113.63</td>\n",
       "      <td>1136.52</td>\n",
       "      <td>19.35</td>\n",
       "      <td>1.4368</td>\n",
       "      <td>1118.65</td>\n",
       "      <td>48.17</td>\n",
       "      <td>109.70</td>\n",
       "    </tr>\n",
       "    <tr>\n",
       "      <th>2010-01-06</th>\n",
       "      <td>30.138541</td>\n",
       "      <td>30.770</td>\n",
       "      <td>20.80</td>\n",
       "      <td>132.25</td>\n",
       "      <td>174.26</td>\n",
       "      <td>113.71</td>\n",
       "      <td>1137.14</td>\n",
       "      <td>19.16</td>\n",
       "      <td>1.4412</td>\n",
       "      <td>1138.50</td>\n",
       "      <td>49.34</td>\n",
       "      <td>111.51</td>\n",
       "    </tr>\n",
       "    <tr>\n",
       "      <th>2010-01-07</th>\n",
       "      <td>30.082827</td>\n",
       "      <td>30.452</td>\n",
       "      <td>20.60</td>\n",
       "      <td>130.00</td>\n",
       "      <td>177.67</td>\n",
       "      <td>114.19</td>\n",
       "      <td>1141.69</td>\n",
       "      <td>19.06</td>\n",
       "      <td>1.4318</td>\n",
       "      <td>1131.90</td>\n",
       "      <td>49.10</td>\n",
       "      <td>110.82</td>\n",
       "    </tr>\n",
       "    <tr>\n",
       "      <th>2010-01-08</th>\n",
       "      <td>30.282827</td>\n",
       "      <td>30.660</td>\n",
       "      <td>20.83</td>\n",
       "      <td>133.52</td>\n",
       "      <td>174.31</td>\n",
       "      <td>114.57</td>\n",
       "      <td>1144.98</td>\n",
       "      <td>18.13</td>\n",
       "      <td>1.4412</td>\n",
       "      <td>1136.10</td>\n",
       "      <td>49.84</td>\n",
       "      <td>111.37</td>\n",
       "    </tr>\n",
       "  </tbody>\n",
       "</table>\n",
       "</div>"
      ],
      "text/plain": [
       "               AAPL.O  MSFT.O  INTC.O  AMZN.O    GS.N     SPY     .SPX   .VIX  \\\n",
       "Date                                                                            \n",
       "2010-01-04  30.572827  30.950   20.88  133.90  173.08  113.33  1132.99  20.04   \n",
       "2010-01-05  30.625684  30.960   20.87  134.69  176.14  113.63  1136.52  19.35   \n",
       "2010-01-06  30.138541  30.770   20.80  132.25  174.26  113.71  1137.14  19.16   \n",
       "2010-01-07  30.082827  30.452   20.60  130.00  177.67  114.19  1141.69  19.06   \n",
       "2010-01-08  30.282827  30.660   20.83  133.52  174.31  114.57  1144.98  18.13   \n",
       "\n",
       "              EUR=     XAU=    GDX     GLD  \n",
       "Date                                        \n",
       "2010-01-04  1.4411  1120.00  47.71  109.80  \n",
       "2010-01-05  1.4368  1118.65  48.17  109.70  \n",
       "2010-01-06  1.4412  1138.50  49.34  111.51  \n",
       "2010-01-07  1.4318  1131.90  49.10  110.82  \n",
       "2010-01-08  1.4412  1136.10  49.84  111.37  "
      ]
     },
     "execution_count": 2,
     "metadata": {},
     "output_type": "execute_result"
    }
   ],
   "source": [
    "raw = pd.read_csv('http://hilpisch.com/pyalgo_eikon_eod_data.csv', \n",
    "                  index_col='Date', parse_dates=['Date']).dropna() # the .dropna() method drops all the missing values\n",
    "raw.head()"
   ]
  },
  {
   "cell_type": "markdown",
   "id": "703e70ce",
   "metadata": {},
   "source": [
    "Let's now extract the **Euro/USD** exchange rate into its own DataFrame. We could keep it as a series, but as you will see, in this case a DataFrame is more convenient, so we we use the **[`Series.to_frame()`](https://pandas.pydata.org/docs/reference/api/pandas.Series.to_frame.html)** method to transform it into a DataFrame with a single column."
   ]
  },
  {
   "cell_type": "code",
   "execution_count": 3,
   "id": "541d7ae0",
   "metadata": {},
   "outputs": [
    {
     "data": {
      "text/html": [
       "<div>\n",
       "<style scoped>\n",
       "    .dataframe tbody tr th:only-of-type {\n",
       "        vertical-align: middle;\n",
       "    }\n",
       "\n",
       "    .dataframe tbody tr th {\n",
       "        vertical-align: top;\n",
       "    }\n",
       "\n",
       "    .dataframe thead th {\n",
       "        text-align: right;\n",
       "    }\n",
       "</style>\n",
       "<table border=\"1\" class=\"dataframe\">\n",
       "  <thead>\n",
       "    <tr style=\"text-align: right;\">\n",
       "      <th></th>\n",
       "      <th>EUR=</th>\n",
       "    </tr>\n",
       "    <tr>\n",
       "      <th>Date</th>\n",
       "      <th></th>\n",
       "    </tr>\n",
       "  </thead>\n",
       "  <tbody>\n",
       "    <tr>\n",
       "      <th>2010-01-04</th>\n",
       "      <td>1.4411</td>\n",
       "    </tr>\n",
       "    <tr>\n",
       "      <th>2010-01-05</th>\n",
       "      <td>1.4368</td>\n",
       "    </tr>\n",
       "    <tr>\n",
       "      <th>2010-01-06</th>\n",
       "      <td>1.4412</td>\n",
       "    </tr>\n",
       "    <tr>\n",
       "      <th>2010-01-07</th>\n",
       "      <td>1.4318</td>\n",
       "    </tr>\n",
       "    <tr>\n",
       "      <th>2010-01-08</th>\n",
       "      <td>1.4412</td>\n",
       "    </tr>\n",
       "  </tbody>\n",
       "</table>\n",
       "</div>"
      ],
      "text/plain": [
       "              EUR=\n",
       "Date              \n",
       "2010-01-04  1.4411\n",
       "2010-01-05  1.4368\n",
       "2010-01-06  1.4412\n",
       "2010-01-07  1.4318\n",
       "2010-01-08  1.4412"
      ]
     },
     "execution_count": 3,
     "metadata": {},
     "output_type": "execute_result"
    }
   ],
   "source": [
    "data = raw['EUR='].to_frame()\n",
    "data.head()"
   ]
  },
  {
   "cell_type": "markdown",
   "id": "a1380238-dd7e-4728-9393-67b6cc923296",
   "metadata": {},
   "source": [
    "We can then **plot** this series to get the feel for it:"
   ]
  },
  {
   "cell_type": "code",
   "execution_count": 4,
   "id": "d6b8d39e",
   "metadata": {},
   "outputs": [
    {
     "data": {
      "text/plain": [
       "<Axes: title={'center': 'EUR/USD'}, xlabel='Date'>"
      ]
     },
     "execution_count": 4,
     "metadata": {},
     "output_type": "execute_result"
    },
    {
     "data": {
      "image/png": "[encoded data removed]",
      "text/plain": [
       "<Figure size 1000x600 with 1 Axes>"
      ]
     },
     "metadata": {},
     "output_type": "display_data"
    }
   ],
   "source": [
    "data.plot(figsize=(10, 6),\n",
    "          title='EUR/USD')"
   ]
  },
  {
   "cell_type": "markdown",
   "id": "cd378cbf",
   "metadata": {},
   "source": [
    "___\n",
    "## 2. The Signal\n",
    "The goal of this exercise is not so much to introduce a successful investment strategy, but to show **how to build a backtesting system for a generic strategy**. So, to start, we will implement one of the oldest trading strategies, the so-called [Moving-Average Crossover Strategy](https://en.wikipedia.org/wiki/Moving_average_crossover).\n",
    "\n",
    "The starting point is to create two Moving Average Indicators using the **[`DataFrame.rolling()`](https://pandas.pydata.org/pandas-docs/stable/reference/api/pandas.DataFrame.rolling.html)** method that allows us to perform a number of calculations on a rolling window. "
   ]
  },
  {
   "cell_type": "code",
   "execution_count": 5,
   "id": "6b7273a0",
   "metadata": {},
   "outputs": [
    {
     "data": {
      "text/html": [
       "<div>\n",
       "<style scoped>\n",
       "    .dataframe tbody tr th:only-of-type {\n",
       "        vertical-align: middle;\n",
       "    }\n",
       "\n",
       "    .dataframe tbody tr th {\n",
       "        vertical-align: top;\n",
       "    }\n",
       "\n",
       "    .dataframe thead th {\n",
       "        text-align: right;\n",
       "    }\n",
       "</style>\n",
       "<table border=\"1\" class=\"dataframe\">\n",
       "  <thead>\n",
       "    <tr style=\"text-align: right;\">\n",
       "      <th></th>\n",
       "      <th>EUR=</th>\n",
       "      <th>SMA1</th>\n",
       "      <th>SMA2</th>\n",
       "    </tr>\n",
       "    <tr>\n",
       "      <th>Date</th>\n",
       "      <th></th>\n",
       "      <th></th>\n",
       "      <th></th>\n",
       "    </tr>\n",
       "  </thead>\n",
       "  <tbody>\n",
       "    <tr>\n",
       "      <th>2019-12-24</th>\n",
       "      <td>1.1087</td>\n",
       "      <td>1.107698</td>\n",
       "      <td>1.119630</td>\n",
       "    </tr>\n",
       "    <tr>\n",
       "      <th>2019-12-26</th>\n",
       "      <td>1.1096</td>\n",
       "      <td>1.107740</td>\n",
       "      <td>1.119529</td>\n",
       "    </tr>\n",
       "    <tr>\n",
       "      <th>2019-12-27</th>\n",
       "      <td>1.1175</td>\n",
       "      <td>1.107924</td>\n",
       "      <td>1.119428</td>\n",
       "    </tr>\n",
       "    <tr>\n",
       "      <th>2019-12-30</th>\n",
       "      <td>1.1197</td>\n",
       "      <td>1.108131</td>\n",
       "      <td>1.119333</td>\n",
       "    </tr>\n",
       "    <tr>\n",
       "      <th>2019-12-31</th>\n",
       "      <td>1.1210</td>\n",
       "      <td>1.108279</td>\n",
       "      <td>1.119231</td>\n",
       "    </tr>\n",
       "  </tbody>\n",
       "</table>\n",
       "</div>"
      ],
      "text/plain": [
       "              EUR=      SMA1      SMA2\n",
       "Date                                  \n",
       "2019-12-24  1.1087  1.107698  1.119630\n",
       "2019-12-26  1.1096  1.107740  1.119529\n",
       "2019-12-27  1.1175  1.107924  1.119428\n",
       "2019-12-30  1.1197  1.108131  1.119333\n",
       "2019-12-31  1.1210  1.108279  1.119231"
      ]
     },
     "execution_count": 5,
     "metadata": {},
     "output_type": "execute_result"
    }
   ],
   "source": [
    "data['SMA1'] = data['EUR='].rolling(42).mean()\n",
    "data['SMA2'] = data['EUR='].rolling(252).mean()\n",
    "data.tail()"
   ]
  },
  {
   "cell_type": "code",
   "execution_count": 6,
   "id": "30786abc",
   "metadata": {},
   "outputs": [
    {
     "data": {
      "text/plain": [
       "<Axes: title={'center': 'EUR/USD | 42 & 252 days SMAs'}, xlabel='Date'>"
      ]
     },
     "execution_count": 6,
     "metadata": {},
     "output_type": "execute_result"
    },
    {
     "data": {
      "image/png": "[encoded data removed]",
      "text/plain": [
       "<Figure size 1000x600 with 1 Axes>"
      ]
     },
     "metadata": {},
     "output_type": "display_data"
    }
   ],
   "source": [
    "data.plot(figsize=(10, 6),\n",
    "          title='EUR/USD | 42 & 252 days SMAs')"
   ]
  },
  {
   "cell_type": "markdown",
   "id": "8ff5a180",
   "metadata": {},
   "source": [
    "The key element of every strategy is the **Alpha Model**. In a SMA strategy, this is quite trivial: when **the short-term MA is above the long-term MA** we predict that the price will rise. So our **Signal** will simply be the difference between the two rolling moving averages."
   ]
  },
  {
   "cell_type": "code",
   "execution_count": 7,
   "id": "ddf7d130",
   "metadata": {},
   "outputs": [
    {
     "data": {
      "text/plain": [
       "<Axes: title={'center': 'SMA Signal'}, xlabel='Date'>"
      ]
     },
     "execution_count": 7,
     "metadata": {},
     "output_type": "execute_result"
    },
    {
     "data": {
      "image/png": "[encoded data removed]",
      "text/plain": [
       "<Figure size 1000x600 with 1 Axes>"
      ]
     },
     "metadata": {},
     "output_type": "display_data"
    }
   ],
   "source": [
    "data['signal'] = data['SMA1'] - data['SMA2']\n",
    "\n",
    "data['signal'].plot(figsize=(10, 6),\n",
    "                    title='SMA Signal')"
   ]
  },
  {
   "cell_type": "markdown",
   "id": "0f5bcd97",
   "metadata": {},
   "source": [
    "Techically the SMA strategy does not look at the size of the difference between the two MAs, but only at the sign. We could have defined our signal as\n",
    "```python\n",
    "data['signal'] = data['SMA1'] > data['SMA2']\n",
    "```\n",
    "\n",
    "This would have given us a \"boolean\" signal (`True/False`) and that would have been sufficient. The solution we used above allows us to more easily plot the signal, and provide some modicum of additional information. For example we can see \"how close\" the signal is to reverse."
   ]
  },
  {
   "cell_type": "markdown",
   "id": "f412e6e3",
   "metadata": {},
   "source": [
    "___\n",
    "## 3. The Position\n",
    "Our **Portfolio Construction Model** will take the signal and transform it into a trading position. Given the introductory nature of this example, also our portfolio model is trivial: we buy when we forecast a price increase (positive signal) and we go short when we forecast a decrease (negative signal).\n",
    "\n",
    "The coding is also trivial because in NumPy we have a function **[`np.sign()`](https://numpy.org/doc/stable/reference/generated/numpy.sign.html)** that transforms any number into a sign indicator. Specifically given a number $n$, the signal function will return:\n",
    "- `+1` if $n>0$\n",
    "- `0` if $n=0$\n",
    "- `-1` if $n<0$"
   ]
  },
  {
   "cell_type": "code",
   "execution_count": 8,
   "id": "67344871",
   "metadata": {},
   "outputs": [
    {
     "data": {
      "text/html": [
       "<div>\n",
       "<style scoped>\n",
       "    .dataframe tbody tr th:only-of-type {\n",
       "        vertical-align: middle;\n",
       "    }\n",
       "\n",
       "    .dataframe tbody tr th {\n",
       "        vertical-align: top;\n",
       "    }\n",
       "\n",
       "    .dataframe thead th {\n",
       "        text-align: right;\n",
       "    }\n",
       "</style>\n",
       "<table border=\"1\" class=\"dataframe\">\n",
       "  <thead>\n",
       "    <tr style=\"text-align: right;\">\n",
       "      <th></th>\n",
       "      <th>EUR=</th>\n",
       "      <th>SMA1</th>\n",
       "      <th>SMA2</th>\n",
       "      <th>signal</th>\n",
       "      <th>position</th>\n",
       "    </tr>\n",
       "    <tr>\n",
       "      <th>Date</th>\n",
       "      <th></th>\n",
       "      <th></th>\n",
       "      <th></th>\n",
       "      <th></th>\n",
       "      <th></th>\n",
       "    </tr>\n",
       "  </thead>\n",
       "  <tbody>\n",
       "    <tr>\n",
       "      <th>2019-12-24</th>\n",
       "      <td>1.1087</td>\n",
       "      <td>1.107698</td>\n",
       "      <td>1.119630</td>\n",
       "      <td>-0.011933</td>\n",
       "      <td>-1.0</td>\n",
       "    </tr>\n",
       "    <tr>\n",
       "      <th>2019-12-26</th>\n",
       "      <td>1.1096</td>\n",
       "      <td>1.107740</td>\n",
       "      <td>1.119529</td>\n",
       "      <td>-0.011788</td>\n",
       "      <td>-1.0</td>\n",
       "    </tr>\n",
       "    <tr>\n",
       "      <th>2019-12-27</th>\n",
       "      <td>1.1175</td>\n",
       "      <td>1.107924</td>\n",
       "      <td>1.119428</td>\n",
       "      <td>-0.011504</td>\n",
       "      <td>-1.0</td>\n",
       "    </tr>\n",
       "    <tr>\n",
       "      <th>2019-12-30</th>\n",
       "      <td>1.1197</td>\n",
       "      <td>1.108131</td>\n",
       "      <td>1.119333</td>\n",
       "      <td>-0.011202</td>\n",
       "      <td>-1.0</td>\n",
       "    </tr>\n",
       "    <tr>\n",
       "      <th>2019-12-31</th>\n",
       "      <td>1.1210</td>\n",
       "      <td>1.108279</td>\n",
       "      <td>1.119231</td>\n",
       "      <td>-0.010952</td>\n",
       "      <td>-1.0</td>\n",
       "    </tr>\n",
       "  </tbody>\n",
       "</table>\n",
       "</div>"
      ],
      "text/plain": [
       "              EUR=      SMA1      SMA2    signal  position\n",
       "Date                                                      \n",
       "2019-12-24  1.1087  1.107698  1.119630 -0.011933      -1.0\n",
       "2019-12-26  1.1096  1.107740  1.119529 -0.011788      -1.0\n",
       "2019-12-27  1.1175  1.107924  1.119428 -0.011504      -1.0\n",
       "2019-12-30  1.1197  1.108131  1.119333 -0.011202      -1.0\n",
       "2019-12-31  1.1210  1.108279  1.119231 -0.010952      -1.0"
      ]
     },
     "execution_count": 8,
     "metadata": {},
     "output_type": "execute_result"
    }
   ],
   "source": [
    "data['position'] = np.sign(data['signal'])\n",
    "data.tail()"
   ]
  },
  {
   "cell_type": "markdown",
   "id": "32ad0148",
   "metadata": {},
   "source": [
    "This is the core element of a **Vectorized Backtesting** as you can see we can determine the value of the position (in this case simply long/short) **simultaneously for all days**. This is called a _vectorized_ calculation because we only need one line of code and we apply it to the entire vector of prices. \n",
    "\n",
    "We can use the method [**`DataFrame.value_counts()`**](https://pandas.pydata.org/pandas-docs/stable/reference/api/pandas.Series.value_counts.html) to count the frequency of values in a column. This will tell us how many days we held long and short position in the exchange rate."
   ]
  },
  {
   "cell_type": "code",
   "execution_count": 9,
   "id": "bbbbd192",
   "metadata": {},
   "outputs": [
    {
     "data": {
      "text/plain": [
       "-1.0    1216\n",
       " 1.0    1049\n",
       "Name: position, dtype: int64"
      ]
     },
     "execution_count": 9,
     "metadata": {},
     "output_type": "execute_result"
    }
   ],
   "source": [
    "data['position'].value_counts()"
   ]
  },
  {
   "cell_type": "markdown",
   "id": "3f1052aa",
   "metadata": {},
   "source": [
    "___\n",
    "### Coding Issue\n",
    "In the from [Chapter 4](https://learning.oreilly.com/library/view/python-for-algorithmic/9781492053347/ch04.html) of the Hilpisch _Python for Algorithmic Trading_ book it uses a more general method based on the numpy function [**`np.where()`**](https://numpy.org/doc/stable/reference/generated/numpy.where.html):"
   ]
  },
  {
   "cell_type": "code",
   "execution_count": 10,
   "id": "656428bb",
   "metadata": {},
   "outputs": [
    {
     "data": {
      "text/html": [
       "<div>\n",
       "<style scoped>\n",
       "    .dataframe tbody tr th:only-of-type {\n",
       "        vertical-align: middle;\n",
       "    }\n",
       "\n",
       "    .dataframe tbody tr th {\n",
       "        vertical-align: top;\n",
       "    }\n",
       "\n",
       "    .dataframe thead th {\n",
       "        text-align: right;\n",
       "    }\n",
       "</style>\n",
       "<table border=\"1\" class=\"dataframe\">\n",
       "  <thead>\n",
       "    <tr style=\"text-align: right;\">\n",
       "      <th></th>\n",
       "      <th>EUR=</th>\n",
       "      <th>SMA1</th>\n",
       "      <th>SMA2</th>\n",
       "      <th>signal</th>\n",
       "      <th>position</th>\n",
       "      <th>position2</th>\n",
       "    </tr>\n",
       "    <tr>\n",
       "      <th>Date</th>\n",
       "      <th></th>\n",
       "      <th></th>\n",
       "      <th></th>\n",
       "      <th></th>\n",
       "      <th></th>\n",
       "      <th></th>\n",
       "    </tr>\n",
       "  </thead>\n",
       "  <tbody>\n",
       "    <tr>\n",
       "      <th>2019-12-24</th>\n",
       "      <td>1.1087</td>\n",
       "      <td>1.107698</td>\n",
       "      <td>1.119630</td>\n",
       "      <td>-0.011933</td>\n",
       "      <td>-1.0</td>\n",
       "      <td>-1</td>\n",
       "    </tr>\n",
       "    <tr>\n",
       "      <th>2019-12-26</th>\n",
       "      <td>1.1096</td>\n",
       "      <td>1.107740</td>\n",
       "      <td>1.119529</td>\n",
       "      <td>-0.011788</td>\n",
       "      <td>-1.0</td>\n",
       "      <td>-1</td>\n",
       "    </tr>\n",
       "    <tr>\n",
       "      <th>2019-12-27</th>\n",
       "      <td>1.1175</td>\n",
       "      <td>1.107924</td>\n",
       "      <td>1.119428</td>\n",
       "      <td>-0.011504</td>\n",
       "      <td>-1.0</td>\n",
       "      <td>-1</td>\n",
       "    </tr>\n",
       "    <tr>\n",
       "      <th>2019-12-30</th>\n",
       "      <td>1.1197</td>\n",
       "      <td>1.108131</td>\n",
       "      <td>1.119333</td>\n",
       "      <td>-0.011202</td>\n",
       "      <td>-1.0</td>\n",
       "      <td>-1</td>\n",
       "    </tr>\n",
       "    <tr>\n",
       "      <th>2019-12-31</th>\n",
       "      <td>1.1210</td>\n",
       "      <td>1.108279</td>\n",
       "      <td>1.119231</td>\n",
       "      <td>-0.010952</td>\n",
       "      <td>-1.0</td>\n",
       "      <td>-1</td>\n",
       "    </tr>\n",
       "  </tbody>\n",
       "</table>\n",
       "</div>"
      ],
      "text/plain": [
       "              EUR=      SMA1      SMA2    signal  position  position2\n",
       "Date                                                                 \n",
       "2019-12-24  1.1087  1.107698  1.119630 -0.011933      -1.0         -1\n",
       "2019-12-26  1.1096  1.107740  1.119529 -0.011788      -1.0         -1\n",
       "2019-12-27  1.1175  1.107924  1.119428 -0.011504      -1.0         -1\n",
       "2019-12-30  1.1197  1.108131  1.119333 -0.011202      -1.0         -1\n",
       "2019-12-31  1.1210  1.108279  1.119231 -0.010952      -1.0         -1"
      ]
     },
     "execution_count": 10,
     "metadata": {},
     "output_type": "execute_result"
    }
   ],
   "source": [
    "data['position2'] = np.where(data['SMA1'] > data['SMA2'],1, -1) \n",
    "data.tail()"
   ]
  },
  {
   "cell_type": "markdown",
   "id": "ba428579",
   "metadata": {},
   "source": [
    "Probably, with some time and wasted effort **we could find three or four more**. The idea is that as long as it works...it works. Pick one and stick with it. To keep our DataFrame \"clean\" let's drop this last column since we will not need it moving forward. We can \"Drop stuff\" from a DataFrame by using the method **[`DataFrame.drop()`](https://pandas.pydata.org/docs/reference/api/pandas.DataFrame.drop.html)**:"
   ]
  },
  {
   "cell_type": "code",
   "execution_count": 11,
   "id": "fa6411a1-ef2b-4bb4-94e5-91b4e17e3ca7",
   "metadata": {},
   "outputs": [
    {
     "data": {
      "text/html": [
       "<div>\n",
       "<style scoped>\n",
       "    .dataframe tbody tr th:only-of-type {\n",
       "        vertical-align: middle;\n",
       "    }\n",
       "\n",
       "    .dataframe tbody tr th {\n",
       "        vertical-align: top;\n",
       "    }\n",
       "\n",
       "    .dataframe thead th {\n",
       "        text-align: right;\n",
       "    }\n",
       "</style>\n",
       "<table border=\"1\" class=\"dataframe\">\n",
       "  <thead>\n",
       "    <tr style=\"text-align: right;\">\n",
       "      <th></th>\n",
       "      <th>EUR=</th>\n",
       "      <th>SMA1</th>\n",
       "      <th>SMA2</th>\n",
       "      <th>signal</th>\n",
       "      <th>position</th>\n",
       "    </tr>\n",
       "    <tr>\n",
       "      <th>Date</th>\n",
       "      <th></th>\n",
       "      <th></th>\n",
       "      <th></th>\n",
       "      <th></th>\n",
       "      <th></th>\n",
       "    </tr>\n",
       "  </thead>\n",
       "  <tbody>\n",
       "    <tr>\n",
       "      <th>2019-12-24</th>\n",
       "      <td>1.1087</td>\n",
       "      <td>1.107698</td>\n",
       "      <td>1.119630</td>\n",
       "      <td>-0.011933</td>\n",
       "      <td>-1.0</td>\n",
       "    </tr>\n",
       "    <tr>\n",
       "      <th>2019-12-26</th>\n",
       "      <td>1.1096</td>\n",
       "      <td>1.107740</td>\n",
       "      <td>1.119529</td>\n",
       "      <td>-0.011788</td>\n",
       "      <td>-1.0</td>\n",
       "    </tr>\n",
       "    <tr>\n",
       "      <th>2019-12-27</th>\n",
       "      <td>1.1175</td>\n",
       "      <td>1.107924</td>\n",
       "      <td>1.119428</td>\n",
       "      <td>-0.011504</td>\n",
       "      <td>-1.0</td>\n",
       "    </tr>\n",
       "    <tr>\n",
       "      <th>2019-12-30</th>\n",
       "      <td>1.1197</td>\n",
       "      <td>1.108131</td>\n",
       "      <td>1.119333</td>\n",
       "      <td>-0.011202</td>\n",
       "      <td>-1.0</td>\n",
       "    </tr>\n",
       "    <tr>\n",
       "      <th>2019-12-31</th>\n",
       "      <td>1.1210</td>\n",
       "      <td>1.108279</td>\n",
       "      <td>1.119231</td>\n",
       "      <td>-0.010952</td>\n",
       "      <td>-1.0</td>\n",
       "    </tr>\n",
       "  </tbody>\n",
       "</table>\n",
       "</div>"
      ],
      "text/plain": [
       "              EUR=      SMA1      SMA2    signal  position\n",
       "Date                                                      \n",
       "2019-12-24  1.1087  1.107698  1.119630 -0.011933      -1.0\n",
       "2019-12-26  1.1096  1.107740  1.119529 -0.011788      -1.0\n",
       "2019-12-27  1.1175  1.107924  1.119428 -0.011504      -1.0\n",
       "2019-12-30  1.1197  1.108131  1.119333 -0.011202      -1.0\n",
       "2019-12-31  1.1210  1.108279  1.119231 -0.010952      -1.0"
      ]
     },
     "execution_count": 11,
     "metadata": {},
     "output_type": "execute_result"
    }
   ],
   "source": [
    "data = data.drop(columns=['position2'])\n",
    "data.tail()"
   ]
  },
  {
   "cell_type": "markdown",
   "id": "c5f6a958",
   "metadata": {},
   "source": [
    "### Recap\n",
    "As you can see we have built our trading strategies by:\n",
    "1. Creating a **Signal** that forecasts the movement of our asset (US Dollar). This is our Alpha Model!\n",
    "1. Transforming our Signal into a **trading Position**. In this case the position is simply binary (go long vs go short on the Dollar). We could have implemented a more complex strategy where the \"size\" of the bet was calculated as a function of the signal."
   ]
  },
  {
   "cell_type": "markdown",
   "id": "3f002e1a",
   "metadata": {},
   "source": [
    "___\n",
    "## 4. The Performance\n",
    "After building our strategy we need to **measure its performance** and compare it with a **suitable benchmark**. \n",
    "\n",
    "To calculate the performance of the strategy, we need to build the **[log returns](https://en.wikipedia.org/wiki/Rate_of_return#Logarithmic)** of the asset in the **next period**.\n",
    "\n",
    "$$ r_{t, t+1} = \\log \\left(\\frac{P_{t+1}}{P_{t}}\\right)$$\n",
    "\n",
    "The code to do this is again rather concise due to vectorization. The calculation below makes use of the method **[`Series.shift()`](https://pandas.pydata.org/pandas-docs/stable/reference/api/pandas.Series.shift.html)** to extract the prices in the \"next\" day. Please notice that shift works **backwards** so, to move forward, we need to shift by a **negative number**."
   ]
  },
  {
   "cell_type": "code",
   "execution_count": 12,
   "id": "4e0cbf7f",
   "metadata": {},
   "outputs": [
    {
     "data": {
      "text/html": [
       "<div>\n",
       "<style scoped>\n",
       "    .dataframe tbody tr th:only-of-type {\n",
       "        vertical-align: middle;\n",
       "    }\n",
       "\n",
       "    .dataframe tbody tr th {\n",
       "        vertical-align: top;\n",
       "    }\n",
       "\n",
       "    .dataframe thead th {\n",
       "        text-align: right;\n",
       "    }\n",
       "</style>\n",
       "<table border=\"1\" class=\"dataframe\">\n",
       "  <thead>\n",
       "    <tr style=\"text-align: right;\">\n",
       "      <th></th>\n",
       "      <th>EUR=</th>\n",
       "      <th>SMA1</th>\n",
       "      <th>SMA2</th>\n",
       "      <th>signal</th>\n",
       "      <th>position</th>\n",
       "      <th>future_returns</th>\n",
       "    </tr>\n",
       "    <tr>\n",
       "      <th>Date</th>\n",
       "      <th></th>\n",
       "      <th></th>\n",
       "      <th></th>\n",
       "      <th></th>\n",
       "      <th></th>\n",
       "      <th></th>\n",
       "    </tr>\n",
       "  </thead>\n",
       "  <tbody>\n",
       "    <tr>\n",
       "      <th>2019-12-24</th>\n",
       "      <td>1.1087</td>\n",
       "      <td>1.107698</td>\n",
       "      <td>1.119630</td>\n",
       "      <td>-0.011933</td>\n",
       "      <td>-1.0</td>\n",
       "      <td>0.000811</td>\n",
       "    </tr>\n",
       "    <tr>\n",
       "      <th>2019-12-26</th>\n",
       "      <td>1.1096</td>\n",
       "      <td>1.107740</td>\n",
       "      <td>1.119529</td>\n",
       "      <td>-0.011788</td>\n",
       "      <td>-1.0</td>\n",
       "      <td>0.007094</td>\n",
       "    </tr>\n",
       "    <tr>\n",
       "      <th>2019-12-27</th>\n",
       "      <td>1.1175</td>\n",
       "      <td>1.107924</td>\n",
       "      <td>1.119428</td>\n",
       "      <td>-0.011504</td>\n",
       "      <td>-1.0</td>\n",
       "      <td>0.001967</td>\n",
       "    </tr>\n",
       "    <tr>\n",
       "      <th>2019-12-30</th>\n",
       "      <td>1.1197</td>\n",
       "      <td>1.108131</td>\n",
       "      <td>1.119333</td>\n",
       "      <td>-0.011202</td>\n",
       "      <td>-1.0</td>\n",
       "      <td>0.001160</td>\n",
       "    </tr>\n",
       "    <tr>\n",
       "      <th>2019-12-31</th>\n",
       "      <td>1.1210</td>\n",
       "      <td>1.108279</td>\n",
       "      <td>1.119231</td>\n",
       "      <td>-0.010952</td>\n",
       "      <td>-1.0</td>\n",
       "      <td>NaN</td>\n",
       "    </tr>\n",
       "  </tbody>\n",
       "</table>\n",
       "</div>"
      ],
      "text/plain": [
       "              EUR=      SMA1      SMA2    signal  position  future_returns\n",
       "Date                                                                      \n",
       "2019-12-24  1.1087  1.107698  1.119630 -0.011933      -1.0        0.000811\n",
       "2019-12-26  1.1096  1.107740  1.119529 -0.011788      -1.0        0.007094\n",
       "2019-12-27  1.1175  1.107924  1.119428 -0.011504      -1.0        0.001967\n",
       "2019-12-30  1.1197  1.108131  1.119333 -0.011202      -1.0        0.001160\n",
       "2019-12-31  1.1210  1.108279  1.119231 -0.010952      -1.0             NaN"
      ]
     },
     "execution_count": 12,
     "metadata": {},
     "output_type": "execute_result"
    }
   ],
   "source": [
    "data['future_returns'] = np.log(data['EUR='].shift(-1) / data['EUR='])\n",
    "data.tail()"
   ]
  },
  {
   "cell_type": "markdown",
   "id": "e48dbe04",
   "metadata": {},
   "source": [
    "To calculate the **return of the strategy** we need to multiply by the position in time $t$ by the return of the day $t+1$."
   ]
  },
  {
   "cell_type": "code",
   "execution_count": 13,
   "id": "2af17a06",
   "metadata": {},
   "outputs": [
    {
     "data": {
      "text/html": [
       "<div>\n",
       "<style scoped>\n",
       "    .dataframe tbody tr th:only-of-type {\n",
       "        vertical-align: middle;\n",
       "    }\n",
       "\n",
       "    .dataframe tbody tr th {\n",
       "        vertical-align: top;\n",
       "    }\n",
       "\n",
       "    .dataframe thead th {\n",
       "        text-align: right;\n",
       "    }\n",
       "</style>\n",
       "<table border=\"1\" class=\"dataframe\">\n",
       "  <thead>\n",
       "    <tr style=\"text-align: right;\">\n",
       "      <th></th>\n",
       "      <th>EUR=</th>\n",
       "      <th>SMA1</th>\n",
       "      <th>SMA2</th>\n",
       "      <th>signal</th>\n",
       "      <th>position</th>\n",
       "      <th>future_returns</th>\n",
       "      <th>strategy</th>\n",
       "    </tr>\n",
       "    <tr>\n",
       "      <th>Date</th>\n",
       "      <th></th>\n",
       "      <th></th>\n",
       "      <th></th>\n",
       "      <th></th>\n",
       "      <th></th>\n",
       "      <th></th>\n",
       "      <th></th>\n",
       "    </tr>\n",
       "  </thead>\n",
       "  <tbody>\n",
       "    <tr>\n",
       "      <th>2019-12-24</th>\n",
       "      <td>1.1087</td>\n",
       "      <td>1.107698</td>\n",
       "      <td>1.119630</td>\n",
       "      <td>-0.011933</td>\n",
       "      <td>-1.0</td>\n",
       "      <td>0.000811</td>\n",
       "      <td>-0.000811</td>\n",
       "    </tr>\n",
       "    <tr>\n",
       "      <th>2019-12-26</th>\n",
       "      <td>1.1096</td>\n",
       "      <td>1.107740</td>\n",
       "      <td>1.119529</td>\n",
       "      <td>-0.011788</td>\n",
       "      <td>-1.0</td>\n",
       "      <td>0.007094</td>\n",
       "      <td>-0.007094</td>\n",
       "    </tr>\n",
       "    <tr>\n",
       "      <th>2019-12-27</th>\n",
       "      <td>1.1175</td>\n",
       "      <td>1.107924</td>\n",
       "      <td>1.119428</td>\n",
       "      <td>-0.011504</td>\n",
       "      <td>-1.0</td>\n",
       "      <td>0.001967</td>\n",
       "      <td>-0.001967</td>\n",
       "    </tr>\n",
       "    <tr>\n",
       "      <th>2019-12-30</th>\n",
       "      <td>1.1197</td>\n",
       "      <td>1.108131</td>\n",
       "      <td>1.119333</td>\n",
       "      <td>-0.011202</td>\n",
       "      <td>-1.0</td>\n",
       "      <td>0.001160</td>\n",
       "      <td>-0.001160</td>\n",
       "    </tr>\n",
       "    <tr>\n",
       "      <th>2019-12-31</th>\n",
       "      <td>1.1210</td>\n",
       "      <td>1.108279</td>\n",
       "      <td>1.119231</td>\n",
       "      <td>-0.010952</td>\n",
       "      <td>-1.0</td>\n",
       "      <td>NaN</td>\n",
       "      <td>NaN</td>\n",
       "    </tr>\n",
       "  </tbody>\n",
       "</table>\n",
       "</div>"
      ],
      "text/plain": [
       "              EUR=      SMA1      SMA2    signal  position  future_returns  \\\n",
       "Date                                                                         \n",
       "2019-12-24  1.1087  1.107698  1.119630 -0.011933      -1.0        0.000811   \n",
       "2019-12-26  1.1096  1.107740  1.119529 -0.011788      -1.0        0.007094   \n",
       "2019-12-27  1.1175  1.107924  1.119428 -0.011504      -1.0        0.001967   \n",
       "2019-12-30  1.1197  1.108131  1.119333 -0.011202      -1.0        0.001160   \n",
       "2019-12-31  1.1210  1.108279  1.119231 -0.010952      -1.0             NaN   \n",
       "\n",
       "            strategy  \n",
       "Date                  \n",
       "2019-12-24 -0.000811  \n",
       "2019-12-26 -0.007094  \n",
       "2019-12-27 -0.001967  \n",
       "2019-12-30 -0.001160  \n",
       "2019-12-31       NaN  "
      ]
     },
     "execution_count": 13,
     "metadata": {},
     "output_type": "execute_result"
    }
   ],
   "source": [
    "data['strategy'] = data['position'] * data['future_returns']\n",
    "data.tail()"
   ]
  },
  {
   "cell_type": "markdown",
   "id": "4a10bac7-d5d1-48f6-85d2-274b6eee6982",
   "metadata": {},
   "source": [
    "### 4.1 The Benchmark \n",
    "It is always diffcult to assess the quality of a portfolio strategy in isolation. We always look for a **\"neutral portfolio\"** to be used as **comparison**. For example if your strategy is designed to select the \"best stocks\" on the US market, you may want to use the S&P 500 as your \"neutral portfolio\" or **Benchmark**. The idea is that you could save the cost of building your strategy and simply invest in every major US company...\n",
    "\n",
    "Here the most intuitive \"neutral portfolio\", is one where we **go long every day** without choosing wheter we should go long or short. We can easily:\n",
    "- Build te Benchmark\n",
    "- Calculate its return\n",
    "- Calculate the \"Active\" return of the portfolio as the return above the Benchmark (above the \"dumb\" strategy). "
   ]
  },
  {
   "cell_type": "code",
   "execution_count": 14,
   "id": "95628c8d-b782-4b30-b62a-b99ad1627c36",
   "metadata": {},
   "outputs": [
    {
     "data": {
      "text/html": [
       "<div>\n",
       "<style scoped>\n",
       "    .dataframe tbody tr th:only-of-type {\n",
       "        vertical-align: middle;\n",
       "    }\n",
       "\n",
       "    .dataframe tbody tr th {\n",
       "        vertical-align: top;\n",
       "    }\n",
       "\n",
       "    .dataframe thead th {\n",
       "        text-align: right;\n",
       "    }\n",
       "</style>\n",
       "<table border=\"1\" class=\"dataframe\">\n",
       "  <thead>\n",
       "    <tr style=\"text-align: right;\">\n",
       "      <th></th>\n",
       "      <th>EUR=</th>\n",
       "      <th>SMA1</th>\n",
       "      <th>SMA2</th>\n",
       "      <th>signal</th>\n",
       "      <th>position</th>\n",
       "      <th>future_returns</th>\n",
       "      <th>strategy</th>\n",
       "      <th>Benchmark</th>\n",
       "      <th>Bench_ret</th>\n",
       "    </tr>\n",
       "    <tr>\n",
       "      <th>Date</th>\n",
       "      <th></th>\n",
       "      <th></th>\n",
       "      <th></th>\n",
       "      <th></th>\n",
       "      <th></th>\n",
       "      <th></th>\n",
       "      <th></th>\n",
       "      <th></th>\n",
       "      <th></th>\n",
       "    </tr>\n",
       "  </thead>\n",
       "  <tbody>\n",
       "    <tr>\n",
       "      <th>2019-12-24</th>\n",
       "      <td>1.1087</td>\n",
       "      <td>1.107698</td>\n",
       "      <td>1.119630</td>\n",
       "      <td>-0.011933</td>\n",
       "      <td>-1.0</td>\n",
       "      <td>0.000811</td>\n",
       "      <td>-0.000811</td>\n",
       "      <td>1</td>\n",
       "      <td>0.000811</td>\n",
       "    </tr>\n",
       "    <tr>\n",
       "      <th>2019-12-26</th>\n",
       "      <td>1.1096</td>\n",
       "      <td>1.107740</td>\n",
       "      <td>1.119529</td>\n",
       "      <td>-0.011788</td>\n",
       "      <td>-1.0</td>\n",
       "      <td>0.007094</td>\n",
       "      <td>-0.007094</td>\n",
       "      <td>1</td>\n",
       "      <td>0.007094</td>\n",
       "    </tr>\n",
       "    <tr>\n",
       "      <th>2019-12-27</th>\n",
       "      <td>1.1175</td>\n",
       "      <td>1.107924</td>\n",
       "      <td>1.119428</td>\n",
       "      <td>-0.011504</td>\n",
       "      <td>-1.0</td>\n",
       "      <td>0.001967</td>\n",
       "      <td>-0.001967</td>\n",
       "      <td>1</td>\n",
       "      <td>0.001967</td>\n",
       "    </tr>\n",
       "    <tr>\n",
       "      <th>2019-12-30</th>\n",
       "      <td>1.1197</td>\n",
       "      <td>1.108131</td>\n",
       "      <td>1.119333</td>\n",
       "      <td>-0.011202</td>\n",
       "      <td>-1.0</td>\n",
       "      <td>0.001160</td>\n",
       "      <td>-0.001160</td>\n",
       "      <td>1</td>\n",
       "      <td>0.001160</td>\n",
       "    </tr>\n",
       "    <tr>\n",
       "      <th>2019-12-31</th>\n",
       "      <td>1.1210</td>\n",
       "      <td>1.108279</td>\n",
       "      <td>1.119231</td>\n",
       "      <td>-0.010952</td>\n",
       "      <td>-1.0</td>\n",
       "      <td>NaN</td>\n",
       "      <td>NaN</td>\n",
       "      <td>1</td>\n",
       "      <td>NaN</td>\n",
       "    </tr>\n",
       "  </tbody>\n",
       "</table>\n",
       "</div>"
      ],
      "text/plain": [
       "              EUR=      SMA1      SMA2    signal  position  future_returns  \\\n",
       "Date                                                                         \n",
       "2019-12-24  1.1087  1.107698  1.119630 -0.011933      -1.0        0.000811   \n",
       "2019-12-26  1.1096  1.107740  1.119529 -0.011788      -1.0        0.007094   \n",
       "2019-12-27  1.1175  1.107924  1.119428 -0.011504      -1.0        0.001967   \n",
       "2019-12-30  1.1197  1.108131  1.119333 -0.011202      -1.0        0.001160   \n",
       "2019-12-31  1.1210  1.108279  1.119231 -0.010952      -1.0             NaN   \n",
       "\n",
       "            strategy  Benchmark  Bench_ret  \n",
       "Date                                        \n",
       "2019-12-24 -0.000811          1   0.000811  \n",
       "2019-12-26 -0.007094          1   0.007094  \n",
       "2019-12-27 -0.001967          1   0.001967  \n",
       "2019-12-30 -0.001160          1   0.001160  \n",
       "2019-12-31       NaN          1        NaN  "
      ]
     },
     "execution_count": 14,
     "metadata": {},
     "output_type": "execute_result"
    }
   ],
   "source": [
    "data['Benchmark'] = 1\n",
    "data['Bench_ret'] = data['Benchmark']*data['future_returns']\n",
    "data.tail()"
   ]
  },
  {
   "cell_type": "markdown",
   "id": "bd77f1c5-2b5a-4e1a-98f0-4540d1b2e724",
   "metadata": {},
   "source": [
    "### 4.2 The Diagnostics\n",
    "Now that we have the daily performance of our portfolio we can calculate the **usual diagnostics**:\n",
    "- Mean Return\n",
    "- Total Retrurn\n",
    "- Standard Deviation\n",
    "- Sharpe Ratio"
   ]
  },
  {
   "cell_type": "code",
   "execution_count": 15,
   "id": "e8bf6ab7",
   "metadata": {},
   "outputs": [
    {
     "data": {
      "text/plain": [
       "Bench_ret   -0.025168\n",
       "strategy     0.028174\n",
       "dtype: float64"
      ]
     },
     "execution_count": 15,
     "metadata": {},
     "output_type": "execute_result"
    }
   ],
   "source": [
    "# we can look at mean returns (annualized)\n",
    "mean_ret = data[['Bench_ret', 'strategy']].mean()*252\n",
    "mean_ret"
   ]
  },
  {
   "cell_type": "code",
   "execution_count": 16,
   "id": "1e3e6cfb",
   "metadata": {},
   "outputs": [
    {
     "data": {
      "text/plain": [
       "Bench_ret   -0.251186\n",
       "strategy     0.253121\n",
       "dtype: float64"
      ]
     },
     "execution_count": 16,
     "metadata": {},
     "output_type": "execute_result"
    }
   ],
   "source": [
    "# since we are using log-returns, the total return is simply the sum of the daily returns\n",
    "tot_ret = data[['Bench_ret', 'strategy']].sum()\n",
    "tot_ret"
   ]
  },
  {
   "cell_type": "code",
   "execution_count": 17,
   "id": "b8cd82e5",
   "metadata": {},
   "outputs": [
    {
     "data": {
      "text/plain": [
       "Bench_ret    0.089465\n",
       "strategy     0.085405\n",
       "dtype: float64"
      ]
     },
     "execution_count": 17,
     "metadata": {},
     "output_type": "execute_result"
    }
   ],
   "source": [
    "# we can look at the standard deviation (annualized)\n",
    "st_dev = data[['Bench_ret', 'strategy']].std()*np.sqrt(252)\n",
    "st_dev"
   ]
  },
  {
   "cell_type": "code",
   "execution_count": 18,
   "id": "56ac4f4f-beea-4106-8c0c-0d0b7415cd87",
   "metadata": {},
   "outputs": [
    {
     "data": {
      "text/plain": [
       "Bench_ret   -0.281322\n",
       "strategy     0.329890\n",
       "dtype: float64"
      ]
     },
     "execution_count": 18,
     "metadata": {},
     "output_type": "execute_result"
    }
   ],
   "source": [
    "# finally the annualized Sharpe Ratio (or return-to-risk ratio)\n",
    "sharpe = mean_ret/st_dev\n",
    "sharpe"
   ]
  },
  {
   "cell_type": "markdown",
   "id": "4d7014d3-2ebc-4e82-8746-0077f1f46fc3",
   "metadata": {},
   "source": [
    "### 4.3 Plotting the Performance\n",
    "We can also plot the performance of the portfolio. To do this, we need to convert monthly returns into a series of portfolio prices. Since we are using logarithmic returns this is trivial. We know that if an asset has, in three periods, returns equal to $r_{1}$, $r_{2}$ and $r_{3}$, than the return from time 0 to time 3 is simply the sum\n",
    "$$r_{0, 3} = \\sum_{t=1}^{3}r_{t}$$\n",
    "\n",
    "And we also know that the dollar value at the end of time 3 of a $1 investment in time 0 is\n",
    "\n",
    "$$W_{3} = \\$1\\times e^{r_{0, 3}}$$\n",
    "\n",
    "We can simply apply the Numpy exponential function **[`numpy.exp()`](https://numpy.org/doc/stable/reference/generated/numpy.exp.html)** to the cumulative returns calculated using the **[`DataFrame.cumsum()`](https://pandas.pydata.org/pandas-docs/stable/reference/api/pandas.DataFrame.cumsum.html)** method.\n",
    "\n",
    "The following command is a typical example of the power and flexibility, and sometimes confusion, of using _[method chaining](https://www.kaggle.com/code/residentmario/method-chaining-reference)_ in Pandas. Here we are:\n",
    "1. Taking two columns from the DataFrame `data`\n",
    "1. Dropping all the rows with missing observations with the **[`DataFrame.dropna()`](https://pandas.pydata.org/docs/reference/api/pandas.DataFrame.dropna.html)** method.\n",
    "1. Applying the cumulative sum operator **[`DataFrame.cumsum()`](https://pandas.pydata.org/pandas-docs/stable/reference/api/pandas.DataFrame.cumsum.html)** to the \"clean\" dataset.\n",
    "1. Applying the exponential function **[`numpy.exp()`](https://numpy.org/doc/stable/reference/generated/numpy.exp.html)** to this cumulative sum."
   ]
  },
  {
   "cell_type": "code",
   "execution_count": 19,
   "id": "c5c00893",
   "metadata": {},
   "outputs": [
    {
     "data": {
      "text/html": [
       "<div>\n",
       "<style scoped>\n",
       "    .dataframe tbody tr th:only-of-type {\n",
       "        vertical-align: middle;\n",
       "    }\n",
       "\n",
       "    .dataframe tbody tr th {\n",
       "        vertical-align: top;\n",
       "    }\n",
       "\n",
       "    .dataframe thead th {\n",
       "        text-align: right;\n",
       "    }\n",
       "</style>\n",
       "<table border=\"1\" class=\"dataframe\">\n",
       "  <thead>\n",
       "    <tr style=\"text-align: right;\">\n",
       "      <th></th>\n",
       "      <th>Bench_ret</th>\n",
       "      <th>strategy</th>\n",
       "    </tr>\n",
       "    <tr>\n",
       "      <th>Date</th>\n",
       "      <th></th>\n",
       "      <th></th>\n",
       "    </tr>\n",
       "  </thead>\n",
       "  <tbody>\n",
       "    <tr>\n",
       "      <th>2010-12-31</th>\n",
       "      <td>0.998056</td>\n",
       "      <td>0.998056</td>\n",
       "    </tr>\n",
       "    <tr>\n",
       "      <th>2011-01-03</th>\n",
       "      <td>0.994319</td>\n",
       "      <td>0.994319</td>\n",
       "    </tr>\n",
       "    <tr>\n",
       "      <th>2011-01-04</th>\n",
       "      <td>0.983105</td>\n",
       "      <td>0.983105</td>\n",
       "    </tr>\n",
       "    <tr>\n",
       "      <th>2011-01-05</th>\n",
       "      <td>0.971892</td>\n",
       "      <td>0.971892</td>\n",
       "    </tr>\n",
       "    <tr>\n",
       "      <th>2011-01-06</th>\n",
       "      <td>0.965538</td>\n",
       "      <td>0.965538</td>\n",
       "    </tr>\n",
       "  </tbody>\n",
       "</table>\n",
       "</div>"
      ],
      "text/plain": [
       "            Bench_ret  strategy\n",
       "Date                           \n",
       "2010-12-31   0.998056  0.998056\n",
       "2011-01-03   0.994319  0.994319\n",
       "2011-01-04   0.983105  0.983105\n",
       "2011-01-05   0.971892  0.971892\n",
       "2011-01-06   0.965538  0.965538"
      ]
     },
     "execution_count": 19,
     "metadata": {},
     "output_type": "execute_result"
    }
   ],
   "source": [
    "port_values = data[['Bench_ret', 'strategy']].dropna().cumsum().apply(np.exp)\n",
    "port_values.head()"
   ]
  },
  {
   "cell_type": "code",
   "execution_count": 20,
   "id": "ecb7d4e5-1858-4838-8911-b0ae17411530",
   "metadata": {},
   "outputs": [
    {
     "data": {
      "text/plain": [
       "<Axes: title={'center': 'USD Strategy'}, xlabel='Date', ylabel='Portfolio Value'>"
      ]
     },
     "execution_count": 20,
     "metadata": {},
     "output_type": "execute_result"
    },
    {
     "data": {
      "image/png": "[encoded data removed]",
      "text/plain": [
       "<Figure size 1000x600 with 1 Axes>"
      ]
     },
     "metadata": {},
     "output_type": "display_data"
    }
   ],
   "source": [
    "port_values.plot(figsize=(10, 6),\n",
    "                 title = 'USD Strategy', \n",
    "                 ylabel = 'Portfolio Value')"
   ]
  },
  {
   "cell_type": "markdown",
   "id": "711857cd",
   "metadata": {},
   "source": [
    "So, is this a \"good\" strategy? Well, it clearly beats the market in our sample period. An active return, compared to the market, of almost 5% with a volatility of 8.5% it's not that bad... the problem is that when we look at the cumulative performance, we see that the bulk of this overperformance is due to us **being short Euros during the great devaluation of 2014**. It does not seem that this strategy has the power to beat a simple benchmark consistently over time..."
   ]
  },
  {
   "cell_type": "markdown",
   "id": "d5c3deac",
   "metadata": {},
   "source": [
    "___\n",
    "### Exercise 6.01\n",
    "In the [Chapter 4](https://learning.oreilly.com/library/view/python-for-algorithmic/9781492053347/ch04.html) of the Hilpisch _Python for Algorithmic Trading_ book, after examining the moving average strategy, we are introduced to a simple **time-series momentum** strategy where we forecast the return of an asset by looking to the cumulative return over the last 3 days. If the cumulative return is positive we will take a long position (buy one unit), if the cumulative return is negative we will take a short position (short-sell one unit).\n",
    "\n",
    "Using our code above as a template, build a momentum trading strategy.\n",
    "\n",
    "**STEP 1:** Extract from the DataFrame `raw` the time series of the gold price (`XAU=`) into a new dataframe called `gold`"
   ]
  },
  {
   "cell_type": "code",
   "execution_count": null,
   "id": "e6e4105f",
   "metadata": {},
   "outputs": [],
   "source": []
  },
  {
   "cell_type": "markdown",
   "id": "210c3dcc",
   "metadata": {},
   "source": [
    "**STEP 2:** Plot the time series to have a visual understanding of the behaviour of the gold price"
   ]
  },
  {
   "cell_type": "code",
   "execution_count": null,
   "id": "6b1c6a67",
   "metadata": {},
   "outputs": [],
   "source": []
  },
  {
   "cell_type": "markdown",
   "id": "556424cf",
   "metadata": {},
   "source": [
    "**STEP 3:** Build a `signal` column in `gold` containing the \"momentum\" of gold. In this case we use the return of gold **over the last 3 days**.\n",
    "\n",
    "$$ momentum = \\log \\left(\\frac{P_{t}}{P_{t-3}}\\right)$$"
   ]
  },
  {
   "cell_type": "code",
   "execution_count": null,
   "id": "63c7910c",
   "metadata": {},
   "outputs": [],
   "source": []
  },
  {
   "cell_type": "markdown",
   "id": "5f4ad6d9",
   "metadata": {},
   "source": [
    "**SPEP 4:** Add a `position` column to `gold` with a long position (`+1`) when the signal is positive and a short position (`-1`) when the signal is negative."
   ]
  },
  {
   "cell_type": "code",
   "execution_count": null,
   "id": "1eb4b54e",
   "metadata": {},
   "outputs": [],
   "source": []
  },
  {
   "cell_type": "markdown",
   "id": "feb4f086",
   "metadata": {},
   "source": [
    "**STEP 5:** Calculate the daily (next-day) returns of Gold in a columns called `future_returns` and create a column `strat_returns` where you multiply the return in time $t+1$ with the position in $t$"
   ]
  },
  {
   "cell_type": "code",
   "execution_count": null,
   "id": "00871cde",
   "metadata": {},
   "outputs": [],
   "source": []
  },
  {
   "cell_type": "markdown",
   "id": "02a94b7d-2daa-439f-957d-747be14ad8ac",
   "metadata": {},
   "source": [
    "**STEP 6:** Create a column called `Benchmark` set equal to `1` to represent a portfolio that is always long on gold. Create a column `Bench_ret` where you calculate the daily return of the benchmark by multiplying `Benchmark` and `future_return`"
   ]
  },
  {
   "cell_type": "code",
   "execution_count": null,
   "id": "e9b1be41-c3f9-4350-b8fd-0ea0cb6d8668",
   "metadata": {},
   "outputs": [],
   "source": []
  },
  {
   "cell_type": "markdown",
   "id": "bbd26fe7",
   "metadata": {},
   "source": [
    "**STEP 7:** Calculate the total return of your strategy and the total return of the benchmark"
   ]
  },
  {
   "cell_type": "code",
   "execution_count": null,
   "id": "c5d87dab",
   "metadata": {},
   "outputs": [],
   "source": []
  },
  {
   "cell_type": "markdown",
   "id": "73c71c74",
   "metadata": {},
   "source": [
    "**STEP 8:** Plot the return of Gold vs the return of your strategy"
   ]
  },
  {
   "cell_type": "code",
   "execution_count": null,
   "id": "415e2fe8",
   "metadata": {},
   "outputs": [],
   "source": []
  },
  {
   "cell_type": "markdown",
   "id": "ac11b768",
   "metadata": {},
   "source": [
    "___\n",
    "## 5. In Production\n",
    "The workflow we have followed so far has led us to the \"development\" of a strategy: we have devised an alpha model, combined it with a portfolio construction model and we have backtested its performance on historical data. In the industry, our Jupyter Notebook would now be prettyfied with the addition of some more comments and descriptions and would be attached to a presentation of the strategy to be submitted to the investment committee that will decide whether to invest any capital in this strategy.\n",
    "\n",
    "Assuming that the strategy is \"good enough\" we will then be asked to put it into production. We cannot expect the investment team to click through all the cells in our notebook every day to find out whether they need to buy or sell Euros. Since we are in charge of the alpha model, our job is to **package the strategy** in a format that is easy to run with **one click**.\n",
    "\n",
    "The [Chapter 4](https://learning.oreilly.com/library/view/python-for-algorithmic/9781492053347/ch04.html) of the Hilpisch _Python for Algorithmic Trading_ book follows a complicated solution that is beyond our command of Python for now, namely to **create an object**. We have not covered object-oriented programming in our Python introduction, so for now we will pass on this option. If you are interested, [Chapter 6](https://learning.oreilly.com/library/view/python-for-finance/9781492024323/ch06.html) of the _Python for Finance (2nd Ed)_ book covers this topic very well.\n",
    "\n",
    "Here we will follow a simpler route and will **encapsulate our code in a function**. Basically we take all the relevant code and we use it to create a function that takes some input (the DataFrame with the prices, and the two parameters for the moving averages) runs the function and produces an output."
   ]
  },
  {
   "cell_type": "code",
   "execution_count": 21,
   "id": "797f9a00",
   "metadata": {},
   "outputs": [],
   "source": [
    "def SMA_Strategy(prices, SMA1=42, SMA2=252): # notice that we pass 42 and 252 as default values for the parameters\n",
    "    data = prices.rename('price').to_frame() #Here we change the name so we do not need to worry about the name of the item\n",
    "    data['SMA1'] = data['price'].rolling(SMA1).mean()\n",
    "    data['SMA2'] = data['price'].rolling(SMA2).mean()\n",
    "    data['signal'] = data['SMA1'] - data['SMA2']\n",
    "    data['position'] = np.sign(data['signal'])\n",
    "    data.dropna(inplace=True)\n",
    "    data['returns'] = np.log(data['price'].shift(-1) / data['price'])\n",
    "    data['strategy'] = data['position'] * data['returns']\n",
    "    \n",
    "    ###########\n",
    "    # Here we have a choice to make in terms of output.\n",
    "    \n",
    "    #return data['position']               # this will produce the historical trading position\n",
    "    #return pd.DataFrame(data['strategy']) # this will produce the daily return of the strategy\n",
    "    return data['strategy'].sum()    # this will produce the historical total return"
   ]
  },
  {
   "cell_type": "markdown",
   "id": "36eea1d3",
   "metadata": {},
   "source": [
    "The fact that we have to chose what type of output the strategy will return, is one the main limitations of the \"function\" solution vs the \"object\" solution. With an object we could create different methods that would produce different outputs. For example `SMA_Strategy.next()` could give us the next trading indications while `SMA_Strategy.performance()` could give us the historical performance... With the function, instead, each function has a single purpose. \n",
    "\n",
    "For example, let's now **choose the last output**, the total return. We need to uncomment that line and run the cell. Now we can run the alpha model with a single line and **get the performance of the strategy**:"
   ]
  },
  {
   "cell_type": "code",
   "execution_count": 22,
   "id": "febd10b3",
   "metadata": {},
   "outputs": [
    {
     "data": {
      "text/plain": [
       "0.22332585097009722"
      ]
     },
     "execution_count": 22,
     "metadata": {},
     "output_type": "execute_result"
    }
   ],
   "source": [
    "performance = SMA_Strategy(raw['EUR='], 38, 260)\n",
    "performance"
   ]
  },
  {
   "cell_type": "markdown",
   "id": "1f592dfa",
   "metadata": {},
   "source": [
    "___\n",
    "## 6. Optimization\n",
    "Production is not the only reason why we may want to create a function with our alpha model. Another reason is that we may want to study the performance of the strategy, for example in order to optimize some parameters.\n",
    "\n",
    "Our SMA strategy has two parameters, the length of the two moving averages. In the development phase we used two numbers that make sense but may not be optimal. Our goal was to get the code to work. Now that we have the function we can optimize it by testing different alternatives. To this end we need to modify the function and select the last output, the average returns. After uncommenting that line (and \"commenting back\" the other one) we need to run the cell again to update the function.\n",
    "\n",
    "We can now generate possible combinations of the two parameters and test them:"
   ]
  },
  {
   "cell_type": "code",
   "execution_count": 23,
   "id": "7bdadc6e",
   "metadata": {},
   "outputs": [
    {
     "name": "stdout",
     "output_type": "stream",
     "text": [
      "Performance: 0.2083 SMA1: 21 SMA2: 220\n",
      "Performance: 0.328 SMA1: 28 SMA2: 228\n",
      "Performance: 0.2711 SMA1: 35 SMA2: 237\n",
      "Performance: 0.3511 SMA1: 42 SMA2: 246\n",
      "Performance: 0.3492 SMA1: 49 SMA2: 255\n",
      "Performance: 0.2767 SMA1: 56 SMA2: 264\n",
      "Performance: 0.2102 SMA1: 63 SMA2: 273\n",
      "Performance: 0.2313 SMA1: 70 SMA2: 282\n",
      "Performance: 0.0711 SMA1: 77 SMA2: 291\n",
      "Performance: 0.0643 SMA1: 84 SMA2: 300\n"
     ]
    }
   ],
   "source": [
    "sma1 = np.linspace(21, 84, 10).astype(int) #notice that we want integer numbers\n",
    "sma2 = np.linspace(220, 300, 10).astype(int)\n",
    "\n",
    "\n",
    "for n in range(10):\n",
    "    \n",
    "    perf = SMA_Strategy(raw['EUR='], sma1[n], sma2[n])\n",
    "    print('Performance:', round(perf,4), 'SMA1:', sma1[n], 'SMA2:', sma2[n]) #here we just print the result without saving it\n",
    "    \n",
    "    "
   ]
  },
  {
   "cell_type": "markdown",
   "id": "58b0ff50",
   "metadata": {},
   "source": [
    "We see that `[42/246]` seems to be the winning combination. But we can do better: we can run a double loop where we test **all the possible combinations** between the two parameters. In this case printing the output would be impractical (100 runs) but we can store it in a DataFrame and sort it at the end."
   ]
  },
  {
   "cell_type": "code",
   "execution_count": 24,
   "id": "875f8a9c",
   "metadata": {},
   "outputs": [
    {
     "data": {
      "text/html": [
       "<div>\n",
       "<style scoped>\n",
       "    .dataframe tbody tr th:only-of-type {\n",
       "        vertical-align: middle;\n",
       "    }\n",
       "\n",
       "    .dataframe tbody tr th {\n",
       "        vertical-align: top;\n",
       "    }\n",
       "\n",
       "    .dataframe thead th {\n",
       "        text-align: right;\n",
       "    }\n",
       "</style>\n",
       "<table border=\"1\" class=\"dataframe\">\n",
       "  <thead>\n",
       "    <tr style=\"text-align: right;\">\n",
       "      <th></th>\n",
       "      <th>performance</th>\n",
       "      <th>SMA1</th>\n",
       "      <th>SMA2</th>\n",
       "    </tr>\n",
       "  </thead>\n",
       "  <tbody>\n",
       "    <tr>\n",
       "      <th>42</th>\n",
       "      <td>0.392240</td>\n",
       "      <td>49</td>\n",
       "      <td>237</td>\n",
       "    </tr>\n",
       "    <tr>\n",
       "      <th>62</th>\n",
       "      <td>0.382571</td>\n",
       "      <td>63</td>\n",
       "      <td>237</td>\n",
       "    </tr>\n",
       "    <tr>\n",
       "      <th>41</th>\n",
       "      <td>0.382238</td>\n",
       "      <td>49</td>\n",
       "      <td>228</td>\n",
       "    </tr>\n",
       "    <tr>\n",
       "      <th>43</th>\n",
       "      <td>0.377160</td>\n",
       "      <td>49</td>\n",
       "      <td>246</td>\n",
       "    </tr>\n",
       "    <tr>\n",
       "      <th>81</th>\n",
       "      <td>0.354273</td>\n",
       "      <td>77</td>\n",
       "      <td>228</td>\n",
       "    </tr>\n",
       "    <tr>\n",
       "      <th>33</th>\n",
       "      <td>0.351055</td>\n",
       "      <td>42</td>\n",
       "      <td>246</td>\n",
       "    </tr>\n",
       "    <tr>\n",
       "      <th>44</th>\n",
       "      <td>0.349235</td>\n",
       "      <td>49</td>\n",
       "      <td>255</td>\n",
       "    </tr>\n",
       "    <tr>\n",
       "      <th>32</th>\n",
       "      <td>0.343515</td>\n",
       "      <td>42</td>\n",
       "      <td>237</td>\n",
       "    </tr>\n",
       "    <tr>\n",
       "      <th>1</th>\n",
       "      <td>0.339940</td>\n",
       "      <td>21</td>\n",
       "      <td>228</td>\n",
       "    </tr>\n",
       "    <tr>\n",
       "      <th>53</th>\n",
       "      <td>0.337696</td>\n",
       "      <td>56</td>\n",
       "      <td>246</td>\n",
       "    </tr>\n",
       "  </tbody>\n",
       "</table>\n",
       "</div>"
      ],
      "text/plain": [
       "    performance  SMA1  SMA2\n",
       "42     0.392240    49   237\n",
       "62     0.382571    63   237\n",
       "41     0.382238    49   228\n",
       "43     0.377160    49   246\n",
       "81     0.354273    77   228\n",
       "33     0.351055    42   246\n",
       "44     0.349235    49   255\n",
       "32     0.343515    42   237\n",
       "1      0.339940    21   228\n",
       "53     0.337696    56   246"
      ]
     },
     "execution_count": 24,
     "metadata": {},
     "output_type": "execute_result"
    }
   ],
   "source": [
    "sma1 = np.linspace(21, 84, 10).astype(int)\n",
    "sma2 = np.linspace(220, 300, 10).astype(int)\n",
    "\n",
    "#We create an empty list to store the results\n",
    "results = []\n",
    "\n",
    "for n1 in range(10):\n",
    "    for n2 in range(10):\n",
    "    \n",
    "        perf = SMA_Strategy(raw['EUR='], sma1[n1], sma2[n2])\n",
    "        \n",
    "        #we store the key results of this iteration by appending them to the list\n",
    "        results.append([perf, sma1[n1], sma2[n2]])\n",
    "\n",
    "optimization = pd.DataFrame(results, columns=['performance', 'SMA1', 'SMA2'])\n",
    "optimization.sort_values(by='performance', ascending=False).head(10) #here we can sort and show the Top-10"
   ]
  },
  {
   "cell_type": "markdown",
   "id": "d26435bf",
   "metadata": {},
   "source": [
    "We now see that `[49/237]` is the winning combination. Of course we could use more values and do a more granular search, but that is not our objective now. The key idea here, is that once we have encapsulated the model in a single-line fuction we can use it more easily for a variety of purposes."
   ]
  },
  {
   "cell_type": "markdown",
   "id": "05d0fee1",
   "metadata": {},
   "source": [
    "___\n",
    "## Exercise 6.02\n",
    "Now that you know that your momentum function works, let's put it into production by **creating a momentum function** and testing **different values** of the momentum parameter."
   ]
  },
  {
   "cell_type": "code",
   "execution_count": null,
   "id": "cd76f950",
   "metadata": {},
   "outputs": [],
   "source": []
  },
  {
   "cell_type": "markdown",
   "id": "56faf30c",
   "metadata": {},
   "source": [
    "Now find the optimal momentum parameter by testing your functions on different \"signals\" defined as the past returns over the previous $n$ days with $n$ going from 1 to 10."
   ]
  },
  {
   "cell_type": "code",
   "execution_count": null,
   "id": "a2d96e67",
   "metadata": {},
   "outputs": [],
   "source": []
  }
 ],
 "metadata": {
  "kernelspec": {
   "display_name": "Python 3 (ipykernel)",
   "language": "python",
   "name": "python3"
  },
  "language_info": {
   "codemirror_mode": {
    "name": "ipython",
    "version": 3
   },
   "file_extension": ".py",
   "mimetype": "text/x-python",
   "name": "python",
   "nbconvert_exporter": "python",
   "pygments_lexer": "ipython3",
   "version": "3.9.16"
  }
 },
 "nbformat": 4,
 "nbformat_minor": 5
}
