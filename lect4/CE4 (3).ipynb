{
 "cells": [
  {
   "cell_type": "markdown",
   "id": "3027c6a8-05d5-4cb0-9f85-75200fbda2de",
   "metadata": {},
   "source": [
    "# Week 4 - Coding Exercise\n",
    "This notebook **is the deliverable** for your weekly coding exercises. Below you will find the text of the exercise and the space to write your code. Feel free to **add additional code cells** if needed. \n",
    "\n",
    "## Completion Instructions\n",
    "1. You are allowed to add additional **cells**. \n",
    "1. Unless specified otherwise, you can use as many **intermediate steps** as you want to get to the final result of each point. We will only mark the final result.\n",
    "1. Some exercises will ask you to perform a calculation and assign the result to a variable with a **specific name**. Assigning the result to a variable with the wrong name will result in **0 marks** for that point.\n",
    "1. Some exercises will ask you to perform a calculation and assign the result to a variable of a **specific type** (number, Series, DataFrame, etc.). Assigning the result to a variable of the wrong type will result in **0 marks** for that point. You can check the type of an object with the function **[`type()`](https://www.codingem.com/type-of-in-python/)**.\n",
    "1. The **final result** of each point should be **shown on screen**. For example if you are asked to assign the result of a calculation to a number called `Total`, this number should be visible on screen. If the result is a DataFrame or Series you should show only a few rows with **[`df.head()`](https://pandas.pydata.org/docs/reference/api/pandas.DataFrame.head.html)** or, if more appropriate, **[`df.tail()`](https://pandas.pydata.org/docs/reference/api/pandas.DataFrame.tail.html)**. If a final result is not shown on screen, it will lead to **0 marks** for that point.\n",
    "1. You should not \"hard-code\" numbers into your calculations if this can be avoided. For example if you need to use the \"number of columns\" in a DataFrame in a calculation, you should use a command/function to calculate the number of columns and not simply count the columns and use `7` (a hard-coded number) in your calculations. Using hard-coded numbers when this is unnecessary may result in **0 marks** for that point. \n",
    "\n",
    "\n",
    "## Submission Instructions\n",
    "1. Do not change the **name of the file**. Canvas will automatically add your name and student ID to the file.\n",
    "1. Before submitting the notebook please **check that it runs properly** from top to bottom. To do this, save the file, close it, than re-open it and press the fast-forward button at the top of the notebook or _Restart and Run All Cells_ from the _Kernel_ menu. You can see a discussion of this in this [video](https://youtu.be/P0NyuTGddPo). If your file has a breaking error that does not allow us to run the notebook from top to bottom you will receive a **penalty of 5 marks**. \n",
    "___"
   ]
  },
  {
   "cell_type": "markdown",
   "id": "117619cd-8306-4015-8d59-7a9db942f9bd",
   "metadata": {},
   "source": [
    "#### Identification\n",
    "Please enter your **name** and your **student ID** number in this markdown cell:\n",
    "\n",
    "* **Student Name:** XXXX\n",
    "* **Student ID:** XXXX\n",
    "\n",
    "Missing name or ID will result in **1 mark penalty**."
   ]
  },
  {
   "cell_type": "markdown",
   "id": "6cd185d7-6bd9-4494-bf4f-9de602ebc758",
   "metadata": {},
   "source": [
    "___\n",
    "#### Import Statements\n",
    "Add in the following cell all the import statements that you need to run the entire notebook. Import statements anywhere else in the notebook will result in a **penalty of 1 mark**."
   ]
  },
  {
   "cell_type": "code",
   "execution_count": null,
   "id": "54d5ccc4-cfde-4a20-923b-cdde4e252ea0",
   "metadata": {},
   "outputs": [],
   "source": []
  },
  {
   "cell_type": "markdown",
   "id": "d1f531db",
   "metadata": {},
   "source": [
    "___\n",
    "### Exercise CE4.01\n",
    "The pandemic, geo-political instability, and rising inflation have had a significant effect on the price of gold in recent years. The file `ce4_Crude.csv` contains data on the daily price of one barrel of Crude Oil from 1984. Load its content into a DataFrame called `oil`. Choose the appropriate index for this DataFrame and be sure that the column with the dates is properly recognized by Pandas as dates value (as a datetime object) **(Point 1: 1 Mark)**."
   ]
  },
  {
   "cell_type": "code",
   "execution_count": null,
   "id": "2ee36cb6",
   "metadata": {},
   "outputs": [],
   "source": []
  },
  {
   "cell_type": "markdown",
   "id": "55561267-207a-49c7-b8df-1e8f4e33d549",
   "metadata": {},
   "source": [
    "Add to the DataFrame `oil` the following three columns **(Point 2: 1 Mark)**:\n",
    "- `Long` defined as the 252 days moving average of the price\n",
    "- `Short` as the 63 days moving average of the price\n",
    "- `Signal` as the buy/sell signal defined as the sign of `Short` minus `Long`. Signal should be equal to `+1` if `Short` is higher than `Long` and `-1` if it is lower (and `0` if they are equal)."
   ]
  },
  {
   "cell_type": "code",
   "execution_count": null,
   "id": "0b3317f6-db1d-4db9-8950-e23647fbe4c4",
   "metadata": {},
   "outputs": [],
   "source": []
  },
  {
   "cell_type": "markdown",
   "id": "4b04ca03-bfec-41e1-b775-f37afb5368a7",
   "metadata": {},
   "source": [
    "Your boss knows that taking short position on crude oil can be very expensive. He asks you to create a vertical bar plot that shows, for every calendar year, how many days of short positions (`signal = -1`) there are **(Point 3: 1 Mark)**. The Graph should have\n",
    "* Size of 12x6\n",
    "* Title _\"Number of Short Positions\"_\n",
    "\n"
   ]
  },
  {
   "cell_type": "code",
   "execution_count": null,
   "id": "3aedaf75-4e95-4cdd-8f74-9f3c6466486d",
   "metadata": {},
   "outputs": [],
   "source": []
  },
  {
   "cell_type": "markdown",
   "id": "805d758b-71f4-4b03-aa2f-68ade6d1ec81",
   "metadata": {},
   "source": [
    "___\n",
    "### Exercise CE4.02\n",
    "The file `ce4_usmarkets.csv` contains data on the value of the S&P 500 (`LargeCap`) and Russell 2000 (`SmallCap`), two major index in the US stock market representative of large and small companies. Your boss is interested to know whether a momentum trading strategy in the US works better on companies with small or large market capitalization. \n",
    "1. Load the content of this file into a DataFrame called `us_markets`. Choose the appropriate index for this DataFrame and be sure that the column with the dates is properly recognized by Pandas as date values.\n",
    "1. Create two additional DataFrames (not series!) called `us_large` and `us_small` each containing one column of `us_market`. The two DataFrames will have the same index as the `us_markets` **(Point 4: 1 Mark)**."
   ]
  },
  {
   "cell_type": "code",
   "execution_count": null,
   "id": "f32865c0-3efb-48d9-ae8b-3b6db34fb30a",
   "metadata": {},
   "outputs": [],
   "source": []
  },
  {
   "cell_type": "markdown",
   "id": "37c8bf16-4ff6-4069-9dd8-91160c38949f",
   "metadata": {},
   "source": [
    "To test whether a momentum strategy would work in on large caps add a new column to `us_large` called `Signal` equal to `+1` if the change of the oil price over the previous 252 days is positive and `0` otherwise (for legal reasons your company cannot short-sell shares). At the end of the calculation `us_large` should only have two columns (the original one with the prices and `signal`).\n",
    "\n",
    "Repeat the same calculation for `us_small`**(Point 5: 1 Mark)**. "
   ]
  },
  {
   "cell_type": "code",
   "execution_count": null,
   "id": "578779e0-fdb0-4e89-be1e-ab03ffe122b9",
   "metadata": {},
   "outputs": [],
   "source": []
  },
  {
   "cell_type": "markdown",
   "id": "770b3287-af09-453f-92b9-8189a669d0cd",
   "metadata": {},
   "source": [
    "Add a new column to both `us_large` and `us_small` called `fut_return` equal to the (logarithmic) return of the next trading day:\n",
    "\n",
    "$$ r_{t, t+1} = \\log \\left(\\frac{P_{t+1}}{P_{t}}\\right)$$\n",
    "\n",
    "Add another column to both DataFrames (called `large_performance` and `small_performance` respectively) that is equal to the next day return if we hold a long position on the index that day and zero otherwise **(Point 6: 1 Mark)**."
   ]
  },
  {
   "cell_type": "code",
   "execution_count": null,
   "id": "c54bd858-1b92-4d31-a7a0-e5531c8ef7bc",
   "metadata": {},
   "outputs": [],
   "source": []
  },
  {
   "cell_type": "markdown",
   "id": "5cfdd471-d40b-4830-8808-77d63d61f09f",
   "metadata": {},
   "source": [
    "Combine the columns `large_performance` and `small_performance` into a new DataFrame called `performance`. This DataFrame should have the same index as all the other ones, and only these two columns **(Point 7: 1 Mark)**."
   ]
  },
  {
   "cell_type": "code",
   "execution_count": null,
   "id": "de0dcfb0-97f7-444b-8156-53cbf3de7b35",
   "metadata": {},
   "outputs": [],
   "source": []
  },
  {
   "cell_type": "markdown",
   "id": "eb53e066-0477-45e0-a802-287f20ef6231",
   "metadata": {},
   "source": [
    "Calculate the total performance of the two momentum strategies in every calendar year. Remember that, since we are using logarithmic returns, the total return is simply the sum of the daily returns (no compounding needed...). Once you have a DataFrame with, for every calendar year, the total return of the two momentum strategies, calculate and show on screen, the average annual return, and the standard deviations of the annual returns for the two strategies **(Point 8: 1 Mark)**."
   ]
  },
  {
   "cell_type": "code",
   "execution_count": null,
   "id": "0df58821-9386-4ba5-ae34-3611803d5ce9",
   "metadata": {},
   "outputs": [],
   "source": []
  },
  {
   "cell_type": "markdown",
   "id": "17c6ed75-4362-4119-8d03-ee575acfa390",
   "metadata": {},
   "source": [
    "___\n",
    "### Exercise CE4.03\n",
    "The file `ce4_returns.csv` contains data on daily returns of five major developed stock markets from 1985 to the end of 2022. Load its content into a DataFrame called `returns`. Choose the appropriate index for this DataFrame and parse the date variable. "
   ]
  },
  {
   "cell_type": "code",
   "execution_count": null,
   "id": "b1612f26-1003-43f2-bb69-a015fcd78d3a",
   "metadata": {},
   "outputs": [],
   "source": []
  },
  {
   "cell_type": "markdown",
   "id": "611f0aa8-5397-4295-95fa-4d1b0822d545",
   "metadata": {},
   "source": [
    "Your boss has recently fallen in love with an investment strategy known as [\"Sell in May and Go Away\"](https://www.investopedia.com/terms/s/sell-in-may-and-go-away.asp). \n",
    "\n",
    "According to this very simplistic strategy, we should **invest between November and April** and don't invest between May and October. Add a column `Month` to the DataFrame `returns` with the calendar month of each observation. For every row, in this column, you should have a number from 1 to 12 indicating to which calendar month that observation belongs. Add a second column called `Signal` that is equal to `Long Position` if the month is between November and April (included) and `Zero Position` otherwise **(Point 9: 1 Mark)**."
   ]
  },
  {
   "cell_type": "code",
   "execution_count": null,
   "id": "f9579173-a282-4373-ba38-51eed1bb1e2b",
   "metadata": {},
   "outputs": [],
   "source": []
  },
  {
   "cell_type": "markdown",
   "id": "5495fdee-0cce-491f-b8e3-2f91707bbf84",
   "metadata": {},
   "source": [
    "To see whether the strategy works in these markets, use the **groupby operator** to calculate the (annualized) mean return for the five markets when the signal is equal to `Long Position` (we should invest) and when the signal is equal to `No Position` (we should not invest). The final result should be a DataFrame called `strategy_ret` **(Point 10: 1 Mark)** with:\n",
    "- Two rows indexed with the signal name (`Long Position` and `No Position`)\n",
    "- Five columns (one for each market)\n",
    "- Each cell should be the annualized mean return. Since every signal of this strategy only allows us to invest for 6 months every year, to \"annualize\" the return you can simply multiply it by 130 (assuming 260 trading days per year)."
   ]
  },
  {
   "cell_type": "code",
   "execution_count": null,
   "id": "a2c10ec2-010b-429c-88cc-c0884f42455c",
   "metadata": {},
   "outputs": [],
   "source": []
  }
 ],
 "metadata": {
  "kernelspec": {
   "display_name": "Python 3 (ipykernel)",
   "language": "python",
   "name": "python3"
  },
  "language_info": {
   "codemirror_mode": {
    "name": "ipython",
    "version": 3
   },
   "file_extension": ".py",
   "mimetype": "text/x-python",
   "name": "python",
   "nbconvert_exporter": "python",
   "pygments_lexer": "ipython3",
   "version": "3.9.12"
  }
 },
 "nbformat": 4,
 "nbformat_minor": 5
}
